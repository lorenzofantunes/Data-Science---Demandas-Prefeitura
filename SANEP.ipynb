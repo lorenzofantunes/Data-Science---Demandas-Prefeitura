{
 "cells": [
  {
   "cell_type": "markdown",
   "metadata": {},
   "source": [
    "## O SANEP "
   ]
  },
  {
   "cell_type": "code",
   "execution_count": 2,
   "metadata": {
    "collapsed": true
   },
   "outputs": [],
   "source": [
    "import csv\n",
    "import pandas as pd\n",
    "\n",
    "\n",
    "with open('demandas.csv', 'r') as csvfile:\n",
    "    spamreader = csv.reader(csvfile, delimiter=';', quotechar='\"')\n",
    "    data = list(spamreader)\n",
    "    for x in range(len(data)):\n",
    "        data[x] = [y.replace(\";\", \",\").rstrip() for y in data[x]]        \n",
    "\n",
    "df = pd.DataFrame(data[1:], columns = data[0])\n",
    "df['abertura'] =  pd.to_datetime(df['abertura'], format='%Y-%m-%d')\n",
    "\n",
    "df.loc[df['origem'] == 'Facebook - 1', 'origem'] = 'Facebook'\n",
    "df.loc[df['origem'] == 'Facebook - 2', 'origem'] = 'Facebook'\n",
    "\n",
    "data = []\n",
    "with open('unidades_cadsec.csv', 'r') as csvfile:\n",
    "    spamreader = csv.reader(csvfile, delimiter=';', quotechar='\"')\n",
    "    data = list(spamreader)\n",
    "    for x in range(len(data)):\n",
    "        data[x] = [y.replace(\";\", \",\").rstrip() for y in data[x]]        \n",
    "\n",
    "geral = pd.DataFrame(data[1:], columns = data[0])"
   ]
  },
  {
   "cell_type": "code",
   "execution_count": 9,
   "metadata": {},
   "outputs": [],
   "source": [
    "#for x in df['tipo'].value_counts().index:\n",
    "#    print(x)"
   ]
  },
  {
   "cell_type": "code",
   "execution_count": 24,
   "metadata": {},
   "outputs": [
    {
     "name": "stderr",
     "output_type": "stream",
     "text": [
      "/home/lorenzo/anaconda3/lib/python3.6/site-packages/ipykernel_launcher.py:1: UserWarning: Boolean Series key will be reindexed to match DataFrame index.\n",
      "  \"\"\"Entry point for launching an IPython kernel.\n"
     ]
    },
    {
     "data": {
      "text/plain": [
       "Centro     4\n",
       "Fragata    1\n",
       "Name: bairro, dtype: int64"
      ]
     },
     "execution_count": 24,
     "metadata": {},
     "output_type": "execute_result"
    }
   ],
   "source": [
    "geral[geral['orgao'] == \"SANEP\"][geral['tipo_unidade'] == 'Secretarias, Empresas e Autarquias']['bairro'].value_counts()"
   ]
  },
  {
   "cell_type": "code",
   "execution_count": 42,
   "metadata": {},
   "outputs": [
    {
     "data": {
      "text/plain": [
       "Fragata                    104\n",
       "Areal                       87\n",
       "Três Vendas                 78\n",
       "Centro                      69\n",
       "                            40\n",
       "Laranjal                    25\n",
       "Sítio Floresta              19\n",
       "Dunas                       18\n",
       "Simões Lopes                14\n",
       "Porto                       11\n",
       "Cohab Tablada                9\n",
       "Nossa Senhora de Fátima      9\n",
       "Pestano                      8\n",
       "Cohab Fragata                7\n",
       "Py Crespo                    6\n",
       "Sanga Funda                  6\n",
       "Navegantes I                 6\n",
       "Balsa                        6\n",
       "Arco-Íris                    5\n",
       "Balneário dos Prazeres       5\n",
       "Lindóia                      5\n",
       "Obelisco                     4\n",
       "Vila Princesa                4\n",
       "Castilhos                    4\n",
       "Cohab Pestano                4\n",
       "Cruzeiro                     3\n",
       "Navegantes II                3\n",
       "Cohab Lindóia                3\n",
       "Santos Dumont                2\n",
       "Colônia Z-3                  2\n",
       "Cohab Guabiroba              1\n",
       "Bom Jesus                    1\n",
       "Getúlio Vargas               1\n",
       "Navegantes III               1\n",
       "Colônia                      1\n",
       "Zona Rural                   1\n",
       "Zona Norte                   1\n",
       "Name: descricao, dtype: int64"
      ]
     },
     "execution_count": 42,
     "metadata": {},
     "output_type": "execute_result"
    }
   ],
   "source": [
    "#Vazamento de água potável Esgoto a céu aberto   Bueiro Entupido  LIMPEZA DE VALETAS \n",
    "sanep = (\n",
    "    (df['tipo'] == 'Vazamento de água potável') | \n",
    "    (df['tipo'] == 'Esgoto a céu aberto') |\n",
    "    (df['tipo'] == 'Bueiro Entupido') |\n",
    "    (df['tipo'] == 'LIMPEZA DE VALETAS')\n",
    ")\n",
    "df[sanep]['descricao'].value_counts()"
   ]
  },
  {
   "cell_type": "code",
   "execution_count": null,
   "metadata": {
    "collapsed": true
   },
   "outputs": [],
   "source": []
  }
 ],
 "metadata": {
  "kernelspec": {
   "display_name": "Python 3",
   "language": "python",
   "name": "python3"
  },
  "language_info": {
   "codemirror_mode": {
    "name": "ipython",
    "version": 3
   },
   "file_extension": ".py",
   "mimetype": "text/x-python",
   "name": "python",
   "nbconvert_exporter": "python",
   "pygments_lexer": "ipython3",
   "version": "3.6.2"
  }
 },
 "nbformat": 4,
 "nbformat_minor": 2
}
