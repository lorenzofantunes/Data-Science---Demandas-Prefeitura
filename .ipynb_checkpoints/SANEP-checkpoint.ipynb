{
 "cells": [
  {
   "cell_type": "markdown",
   "metadata": {},
   "source": [
    "## O SANEP "
   ]
  },
  {
   "cell_type": "code",
   "execution_count": null,
   "metadata": {
    "collapsed": true
   },
   "outputs": [],
   "source": [
    "import csv\n",
    "import pandas as pd\n",
    "\n",
    "\n",
    "with open('demandas.csv', 'r') as csvfile:\n",
    "    spamreader = csv.reader(csvfile, delimiter=';', quotechar='\"')\n",
    "    data = list(spamreader)\n",
    "    for x in range(len(data)):\n",
    "        data[x] = [y.replace(\";\", \",\").rstrip() for y in data[x]]        \n",
    "\n",
    "df = pd.DataFrame(data[1:], columns = data[0])\n",
    "df['abertura'] =  pd.to_datetime(df['abertura'], format='%Y-%m-%d')\n",
    "\n",
    "df.loc[df['origem'] == 'Facebook - 1', 'origem'] = 'Facebook'\n",
    "df.loc[df['origem'] == 'Facebook - 2', 'origem'] = 'Facebook'\n",
    "\n",
    "data = []\n",
    "with open('unidades_cadsec.csv', 'r') as csvfile:\n",
    "    spamreader = csv.reader(csvfile, delimiter=';', quotechar='\"')\n",
    "    data = list(spamreader)\n",
    "    for x in range(len(data)):\n",
    "        data[x] = [y.replace(\";\", \",\").rstrip() for y in data[x]]        \n",
    "\n",
    "geral = pd.DataFrame(data[1:], columns = data[0])"
   ]
  }
 ],
 "metadata": {
  "kernelspec": {
   "display_name": "Python 3",
   "language": "python",
   "name": "python3"
  },
  "language_info": {
   "codemirror_mode": {
    "name": "ipython",
    "version": 3
   },
   "file_extension": ".py",
   "mimetype": "text/x-python",
   "name": "python",
   "nbconvert_exporter": "python",
   "pygments_lexer": "ipython3",
   "version": "3.6.2"
  }
 },
 "nbformat": 4,
 "nbformat_minor": 2
}
